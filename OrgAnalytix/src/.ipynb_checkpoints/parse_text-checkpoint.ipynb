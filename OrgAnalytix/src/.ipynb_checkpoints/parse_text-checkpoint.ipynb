{
 "cells": [
  {
   "cell_type": "code",
   "execution_count": 487,
   "metadata": {
    "collapsed": true
   },
   "outputs": [],
   "source": [
    "import numpy as np\n",
    "import pandas as pd\n",
    "import re\n",
    "from nltk import WordNetLemmatizer, sent_tokenize, word_tokenize\n",
    "import gensim\n",
    "import multiprocessing\n",
    "cores = multiprocessing.cpu_count()\n",
    "\n",
    "import warnings\n",
    "warnings.filterwarnings(\"ignore\",category=DeprecationWarning)\n",
    "\n",
    "# NLTK Stop words\n",
    "from nltk.corpus import stopwords\n",
    "stop_words = stopwords.words('english')\n",
    "stop_words.extend(['ser','not','be','must','can','lord','s', 'mlord'])\n",
    "\n",
    "\n",
    "\n",
    "def get_book_text(filename):\n",
    "    '''\n",
    "    Input: Filename of target text file\n",
    "    Output: text file as a single string\n",
    "    '''\n",
    "    with open(filename) as f:\n",
    "        text = f.read()\n",
    "    return text\n",
    "\n",
    "\n",
    "\n",
    "def clean_artifacts(text):\n",
    "    '''\n",
    "    Cleans OCR artifacts out of text\n",
    "    \n",
    "    Input: Text string (output of get_book_text)\n",
    "    Output: Cleaned text string\n",
    "    '''\n",
    "    #Remove page/chapter numbers, and any number erroneously created by OCR\n",
    "    text = re.sub(r'[1234567890]+','',text)\n",
    "    \n",
    "    #Remove line breaks, apostrophes (important for finding quotes), and replace 'l(' with k (OCR artifact)\n",
    "    text = text.replace('\\n', ' ')\n",
    "    text = text.replace(\"\\'\",'')\n",
    "    text = text.replace(\"l(\",'k')\n",
    "    #Remove the word 'page' from every instance of 'Page ##'\n",
    "    text = text.replace('Page ','')\n",
    "    #Eddard stark is sometime referred to as Eddard, sometimes as Ned. Let's fix that.\n",
    "    text = text.replace('Ned','Eddard')\n",
    "    #The same is true for Petyr Baelish and 'Littlefinger'\n",
    "    text = text.replace('Littlefinger','Petyr')\n",
    "    #And Dany/Daenerys\n",
    "    text = text.replace('Dany','Daenerys')\n",
    "    #...Joffrey too\n",
    "    text = text.replace('Joffrey','Joff')\n",
    "    text = text.replace('Joff', 'Joffrey')\n",
    "    \n",
    "    #Samwell<-> Sam\n",
    "    text = re.sub(r'Sam[ ,.?]','Samwell',text)\n",
    "    \n",
    "    #Brynden \"Blackfish\" Tully\n",
    "    text = text.replace('Blackfish', 'Brynden')\n",
    "    \n",
    "    #The brothers Clegane\n",
    "    text = text.replace('The Hound', 'Sandor')\n",
    "    text = text.replace('The Mountain', 'Gregor')\n",
    "    \n",
    "    #Leverage all caps words to increase padding between chapters\n",
    "    for n in ['EDDARD','CATELYN','SANSA','ARYA','BRAN','JON','DAENERYS','TYRION','THEON','DAVOS','SAMWELL','JAIME','CERSEI','BRIENNE','AREO','ARYS','ARIANNE','ASHA','AERON','VICTARION','QUENTYN','JON','BARRISTAN','MELISANDRE']:\n",
    "        text = text.replace(n, 'This is a filler string intended to act as a buffer between chapters to help prevent characters from leaking over into the previous chapter thereby really messing up the distance metrics.')\n",
    "    \n",
    "    return text\n",
    "\n",
    "\n",
    "\n",
    "def break_sentences(text):\n",
    "    '''\n",
    "    Uses nltk sentence tokenizer to split text into a list of individual sentences\n",
    "    Input: Text (string)\n",
    "    Output: text_sent (list of strings)\n",
    "    '''\n",
    "    #Sentence tokenization\n",
    "    text_sent = sent_tokenize(text)\n",
    "    \n",
    "    #If a single spoken line has more than one sentence in it, include the quotes in all pieces of the sentence\n",
    "    for i in range(len(text_sent)):\n",
    "        if text_sent[i].count('\"') == 1:\n",
    "            if text_sent[i].startswith('\"'):\n",
    "                text_sent[i] = text_sent[i]+'\"'\n",
    "            elif text_sent[i].endswith('\"'):\n",
    "                text_sent[i] = '\"'+text_sent[i]\n",
    "    return text_sent\n",
    "\n",
    "\n",
    "\n",
    "def find_quote_ind(text_sent):\n",
    "    '''\n",
    "    Finds indices and quotes for text lines containing dialogue\n",
    "    Input: Sentence tokenized text\n",
    "    Output: all_quote_indices (list of lists of ints, each sublist containing a distinct dialogue chunk)\n",
    "    '''\n",
    "    #Enumerate sentences and keep only those with quotation marks in them\n",
    "    text_enum = enumerate(text_sent)\n",
    "    text_chunks = [idx for idx, sent in text_enum if '\"' in sent]\n",
    "    \n",
    "    #Group all dialogue sentences based on continuity of numerical indices\n",
    "    indices = []\n",
    "    from itertools import groupby\n",
    "    from operator import itemgetter\n",
    "    data = text_chunks.copy()\n",
    "    for idx, sent in groupby(enumerate(text_chunks), lambda ix: ix[0]-ix[1]):\n",
    "        indices.append(list(map(itemgetter(1), sent)))\n",
    "    return indices\n",
    "\n",
    "\n",
    "\n",
    "def group_quotes(sents, quote_ind):\n",
    "    '''\n",
    "    Creates documents containing distinct sections of dialogue from the input sents and quote chunk indices\n",
    "    Input:\n",
    "          sents - list of strings, each a sentence from the original text that contains a quotation mark\n",
    "          quote_ind - List of lists, each sublist containing the indices of a distinct dialogue chunk (ouput of find_quote_ind)\n",
    "    Output: \n",
    "          first_quote_ind - list of the first index number for each item in quote_ind (Used to tie quotes back to )\n",
    "          grouped_quotes - List of strings, each a distinct conversation from the original text\n",
    "    '''\n",
    "    grouped_quotes = []\n",
    "    for elem in quote_ind:\n",
    "        q = []\n",
    "        for ind in elem:\n",
    "            q.append(sents[ind])\n",
    "        grouped_quotes.append(''.join(q))\n",
    "    return grouped_quotes\n",
    "\n",
    "\n",
    "\n",
    "def replace_quote_with_idx(enum_sents):\n",
    "    '''\n",
    "    Replaces the text in the original book with the index where it appears\n",
    "    Input: List of tuples like (int, string) representing (sentence index, quoted text)\n",
    "    Output: enum_sents, with strings replaced with the index where the quote appears\n",
    "    '''\n",
    "    regex = re.compile(r'[\"\\'].*[\"\\']')\n",
    "    quoteless_idx = []\n",
    "    for i in range(len(enum_sents)):\n",
    "         quoteless_idx.append(re.sub(regex, str(enum_sents[i][0])+' ', enum_sents[i][1]))\n",
    "    return quoteless_idx\n",
    "\n",
    "\n",
    "\n",
    "def term_closeness(name, text, quote_idx):\n",
    "    '''\n",
    "    Finds the relative distance between and quote_idx in text. \n",
    "        \n",
    "    Inputs\n",
    "    name: string\n",
    "    text: string\n",
    "    search_idx: int\n",
    "    \n",
    "    Output\n",
    "    dist: tuple of name and the distance from name to quote_idx in text \n",
    "    '''\n",
    "       \n",
    "    forward = text[text.find(quote_idx):].find(name)\n",
    "    if forward == -1:\n",
    "        forward = 1000000\n",
    "    backward = text[text.find(quote_idx)::-1].find(name[::-1])\n",
    "    if backward == -1:\n",
    "        backward = 1000000\n",
    "    dist = min([forward, backward])\n",
    "    \n",
    "    return (name, dist)\n",
    "\n",
    "\n",
    "\n",
    "def make_quote_df(q_ind, quote_list, n_list):\n",
    "    \n",
    "    #Enumerate list of quotes using the index where the first sentence appears\n",
    "    #Regex removes anything from the quote that isn't wrapped in quotation marks\n",
    "    enumerated_quotes = list(zip([i[0] for i in q_ind],[''.join(re.findall(r'\"[^\"]*\"',q)) for q in quote_list]))\n",
    "    \n",
    "    #Term_closeness looks for the quote index in the text, which requires a string of the numerical index\n",
    "    quote_start_inds = [str(i[0]) for i in q_ind]\n",
    "    \n",
    "    names = [sorted([i[0] for i in sorted(\n",
    "                            [term_closeness(name, indexed_text, idx) for name in n_list],\n",
    "                                                  key = lambda x: x[1], reverse = False)[:2]\n",
    "                             ]) for idx in quote_start_inds]\n",
    "\n",
    "    #Create a dataframe of names that appear near one another\n",
    "    quote_df = pd.DataFrame(names, columns = ['char1','char2'])\n",
    "    #append regex'd quotes to the dataframe as a column, removing quotation marks\n",
    "    quote_df['quote'] = [q[1].replace('\"','') for q in enumerated_quotes]\n",
    "    return quote_df\n",
    "\n",
    "def clean_text(bookfile, namefile):\n",
    "\n",
    "    \n",
    "    \n",
    "    text = get_book_text(bookfile)\n",
    "\n",
    "    text = clean_artifacts(text)\n",
    "\n",
    "    sents = break_sentences(text)\n",
    "\n",
    "    quote_indices = find_quote_ind(sents)\n",
    "\n",
    "    quotes = group_quotes(sents, quote_indices)\n",
    "\n",
    "    indexed_text = ''.join(replace_quote_with_idx(list(enumerate(sents))))\n",
    "\n",
    "    first_names = pd.read_csv(namefile), header = None)\n",
    "\n",
    "    first_names = set(first_names[1])\n",
    "\n",
    "    first_names.remove('Tom')\n",
    "\n",
    "    first_names.add('Greatjon')\n",
    "    first_names.remove('Rhaegar')\n",
    "    first_names.remove('High')\n",
    "    first_names.remove('Nymeria')\n",
    "    first_names.remove('Red')\n",
    "    first_names.remove('Grey')\n",
    "    first_names.add('Grey Worm')\n",
    "    first_names.remove('Ben')\n",
    "\n",
    "\n",
    "    quote_df = make_quote_df(quote_indices, quotes, first_names)\n",
    "    \n",
    "    return quote_df\n",
    "\n",
    "if __name__ == \"__main__\":\n",
    "book = '../data/001ssb.txt'\n",
    "names = '../data/character_first_names.csv'\n",
    "clean_text(book, names)"
   ]
  },
  {
   "cell_type": "code",
   "execution_count": 363,
   "metadata": {},
   "outputs": [],
   "source": [
    "q_df_test = make_quote_df(quote_indices, quotes, name_subset)"
   ]
  },
  {
   "cell_type": "code",
   "execution_count": null,
   "metadata": {
    "collapsed": true
   },
   "outputs": [],
   "source": [
    "quote_df.to_csv('../data/book_1_draft.csv')"
   ]
  },
  {
   "cell_type": "code",
   "execution_count": 587,
   "metadata": {},
   "outputs": [
    {
     "data": {
      "text/html": [
       "<div>\n",
       "<style scoped>\n",
       "    .dataframe tbody tr th:only-of-type {\n",
       "        vertical-align: middle;\n",
       "    }\n",
       "\n",
       "    .dataframe tbody tr th {\n",
       "        vertical-align: top;\n",
       "    }\n",
       "\n",
       "    .dataframe thead th {\n",
       "        text-align: right;\n",
       "    }\n",
       "</style>\n",
       "<table border=\"1\" class=\"dataframe\">\n",
       "  <thead>\n",
       "    <tr style=\"text-align: right;\">\n",
       "      <th></th>\n",
       "      <th>char1</th>\n",
       "      <th>char2</th>\n",
       "      <th>quote</th>\n",
       "    </tr>\n",
       "  </thead>\n",
       "  <tbody>\n",
       "    <tr>\n",
       "      <th>216</th>\n",
       "      <td>Ben</td>\n",
       "      <td>Daenerys</td>\n",
       "      <td>Viserys of the House Targaryen, the Third of h...</td>\n",
       "    </tr>\n",
       "    <tr>\n",
       "      <th>641</th>\n",
       "      <td>Arya</td>\n",
       "      <td>Daenerys</td>\n",
       "      <td>Needle!</td>\n",
       "    </tr>\n",
       "  </tbody>\n",
       "</table>\n",
       "</div>"
      ],
      "text/plain": [
       "    char1     char2                                              quote\n",
       "216   Ben  Daenerys  Viserys of the House Targaryen, the Third of h...\n",
       "641  Arya  Daenerys                                            Needle!"
      ]
     },
     "execution_count": 587,
     "metadata": {},
     "output_type": "execute_result"
    }
   ],
   "source": [
    "quote_df[quote_df['char2'] == 'Daenerys']"
   ]
  },
  {
   "cell_type": "code",
   "execution_count": null,
   "metadata": {
    "collapsed": true
   },
   "outputs": [],
   "source": []
  },
  {
   "cell_type": "markdown",
   "metadata": {},
   "source": [
    "#### Find all instances of first names, find nearest last name, in original text replace first with first-last - if time. Else explain. Find count for each.\n",
    "##### Reuse term closeness code?\n",
    "\n",
    "#### Combine all books\n",
    "\n",
    "#### Topic model on quote docs - Topic model accross all books.\n",
    "\n",
    "#### Assign topics as edge attributes\n",
    "\n",
    "#### Create egos by topic\n",
    "\n",
    "#### Determine centrality/deltas\n",
    "\n",
    "#### Predict on death? - Likely too sparse data, do power test\n",
    "\n",
    "#### Recommender: Input sentence, who said it - DOC2VEC!!!\n",
    "\n",
    "#### Web app? ### AAAHAHAHAHAHAHAAAA!"
   ]
  },
  {
   "cell_type": "code",
   "execution_count": 431,
   "metadata": {
    "collapsed": true
   },
   "outputs": [],
   "source": [
    "from wordcloud import WordCloud, STOPWORDS"
   ]
  },
  {
   "cell_type": "code",
   "execution_count": 432,
   "metadata": {
    "collapsed": true
   },
   "outputs": [],
   "source": [
    "def show_wordcloud(data, title = None):\n",
    "    wordcloud = WordCloud(\n",
    "        background_color='white',\n",
    "        stopwords=stopwords,\n",
    "        max_words=200,\n",
    "        max_font_size=40, \n",
    "        scale=3,\n",
    "        random_state=1 # chosen at random by flipping a coin; it was heads\n",
    "    ).generate(str(data))\n",
    "\n",
    "    fig = plt.figure(1, figsize=(12, 12))\n",
    "    plt.axis('off')\n",
    "    if title: \n",
    "        fig.suptitle(title, fontsize=20)\n",
    "        fig.subplots_adjust(top=2.3)\n",
    "\n",
    "    plt.imshow(wordcloud)\n",
    "    plt.show()"
   ]
  },
  {
   "cell_type": "code",
   "execution_count": 435,
   "metadata": {},
   "outputs": [
    {
     "data": {
      "text/plain": [
       "[('s', 0.06273288),\n",
       " ('son', 0.050120603),\n",
       " ('leave', 0.04562341),\n",
       " ('dead', 0.04053597),\n",
       " ('could', 0.039655976),\n",
       " ('can', 0.03632293),\n",
       " ('nothing', 0.0289061),\n",
       " ('help', 0.024704833),\n",
       " ('traitor', 0.024310362),\n",
       " ('head', 0.024229314)]"
      ]
     },
     "execution_count": 435,
     "metadata": {},
     "output_type": "execute_result"
    }
   ],
   "source": [
    "lda_model.show_topic(1)"
   ]
  },
  {
   "cell_type": "code",
   "execution_count": 573,
   "metadata": {},
   "outputs": [],
   "source": [
    "ed_words = ''.join([i for i in quote_df[quote_df['char2'] == 'Sansa']['quote']])"
   ]
  },
  {
   "cell_type": "code",
   "execution_count": null,
   "metadata": {},
   "outputs": [],
   "source": [
    "ed_words"
   ]
  },
  {
   "cell_type": "code",
   "execution_count": 575,
   "metadata": {},
   "outputs": [],
   "source": [
    "from collections import Counter\n",
    "words = Counter(ed_words.split(' '))"
   ]
  },
  {
   "cell_type": "code",
   "execution_count": 578,
   "metadata": {},
   "outputs": [],
   "source": [
    "words = {k:v for k,v in words.items() if v <5}"
   ]
  },
  {
   "cell_type": "code",
   "execution_count": 579,
   "metadata": {},
   "outputs": [
    {
     "data": {
      "text/plain": [
       "<matplotlib.image.AxesImage at 0x7efbb4f20e48>"
      ]
     },
     "execution_count": 579,
     "metadata": {},
     "output_type": "execute_result"
    },
    {
     "data": {
      "image/png": "[encoded data removed]",
      "text/plain": [
       "<Figure size 432x288 with 1 Axes>"
      ]
     },
     "metadata": {},
     "output_type": "display_data"
    }
   ],
   "source": [
    "plt.figure()\n",
    "plt.imshow(WordCloud(stopwords = stopwords).fit_words(words))"
   ]
  },
  {
   "cell_type": "code",
   "execution_count": 591,
   "metadata": {},
   "outputs": [
    {
     "data": {
      "text/plain": [
       "375233"
      ]
     },
     "execution_count": 591,
     "metadata": {},
     "output_type": "execute_result"
    }
   ],
   "source": [
    "text.find('GAME')"
   ]
  },
  {
   "cell_type": "code",
   "execution_count": 592,
   "metadata": {},
   "outputs": [
    {
     "data": {
      "text/plain": [
       "'sually into the rushing water. A GAME, O'"
      ]
     },
     "execution_count": 592,
     "metadata": {},
     "output_type": "execute_result"
    }
   ],
   "source": [
    "text[375200:375240]"
   ]
  },
  {
   "cell_type": "markdown",
   "metadata": {},
   "source": [
    "#### Stack:\n",
    "- Python\n",
    "- Pandas\n",
    "- Numpy\n",
    "- gensim\n",
    "- sklearn\n",
    "- matplotlib\n",
    "- networkX\n",
    "- AWS\n",
    "- \n",
    "- https://github.com/mathbeveridge/asoiaf/tree/master/data"
   ]
  },
  {
   "cell_type": "code",
   "execution_count": null,
   "metadata": {
    "collapsed": true
   },
   "outputs": [],
   "source": []
  }
 ],
 "metadata": {
  "kernelspec": {
   "display_name": "Python 3",
   "language": "python",
   "name": "python3"
  },
  "language_info": {
   "codemirror_mode": {
    "name": "ipython",
    "version": 3
   },
   "file_extension": ".py",
   "mimetype": "text/x-python",
   "name": "python",
   "nbconvert_exporter": "python",
   "pygments_lexer": "ipython3",
   "version": "3.6.5"
  }
 },
 "nbformat": 4,
 "nbformat_minor": 2
}
